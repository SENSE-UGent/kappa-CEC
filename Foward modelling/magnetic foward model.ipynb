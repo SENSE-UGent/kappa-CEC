{
 "cells": [
  {
   "cell_type": "code",
   "execution_count": 1,
   "metadata": {},
   "outputs": [],
   "source": [
    "%matplotlib inline"
   ]
  },
  {
   "cell_type": "markdown",
   "metadata": {},
   "source": [
    "\n",
    "# Forward Simulation of Total Magnetic Intensity Data\n",
    "\n",
    "Here we use the module *SimPEG.potential_fields.magnetics* to predict magnetic\n",
    "data for a magnetic susceptibility model. We simulate the data on a tensor mesh.\n",
    "For this tutorial, we focus on the following:\n",
    "\n",
    "    - How to define the survey\n",
    "    - How to predict magnetic data for a susceptibility model\n",
    "    - How to include surface topography\n",
    "    - The units of the physical property model and resulting data\n"
   ]
  },
  {
   "cell_type": "markdown",
   "metadata": {},
   "source": [
    "## Import Modules\n",
    "\n",
    "\n"
   ]
  },
  {
   "cell_type": "code",
   "execution_count": 2,
   "metadata": {},
   "outputs": [],
   "source": [
    "import numpy as np\n",
    "from scipy.interpolate import LinearNDInterpolator\n",
    "import matplotlib as mpl\n",
    "import matplotlib.pyplot as plt\n",
    "import os\n",
    "\n",
    "from discretize import TensorMesh\n",
    "from discretize.utils import mkvc\n",
    "from SimPEG.utils import plot2Ddata, model_builder, surface2ind_topo\n",
    "from SimPEG import maps, utils\n",
    "from SimPEG.potential_fields import magnetics\n",
    "\n",
    "write_output = False\n",
    "\n",
    "# sphinx_gallery_thumbnail_number = 2"
   ]
  },
  {
   "cell_type": "markdown",
   "metadata": {},
   "source": [
    "## Topography\n",
    "\n",
    "Surface topography is defined as an (N, 3) numpy array. We create it here but\n",
    "topography could also be loaded from a file.\n",
    "\n",
    "\n"
   ]
  },
  {
   "cell_type": "code",
   "execution_count": 3,
   "metadata": {},
   "outputs": [
    {
     "name": "stdout",
     "output_type": "stream",
     "text": [
      "[[-20.         -20.          -0.        ]\n",
      " [-20.          -6.66666667  -0.        ]\n",
      " [-20.           6.66666667  -0.        ]\n",
      " [-20.          20.          -0.        ]\n",
      " [ -6.66666667 -20.          -0.        ]\n",
      " [ -6.66666667  -6.66666667  -0.        ]\n",
      " [ -6.66666667   6.66666667  -0.        ]\n",
      " [ -6.66666667  20.          -0.        ]\n",
      " [  6.66666667 -20.           0.        ]\n",
      " [  6.66666667  -6.66666667   0.        ]\n",
      " [  6.66666667   6.66666667   0.        ]\n",
      " [  6.66666667  20.           0.        ]\n",
      " [ 20.         -20.           0.        ]\n",
      " [ 20.          -6.66666667   0.        ]\n",
      " [ 20.           6.66666667   0.        ]\n",
      " [ 20.          20.           0.        ]]\n"
     ]
    }
   ],
   "source": [
    "[x_topo, y_topo] = np.meshgrid(np.linspace(-20, 20, 4), np.linspace(-20, 20, 4))\n",
    "z_topo = x_topo *0\n",
    "x_topo, y_topo, z_topo = mkvc(x_topo), mkvc(y_topo), mkvc(z_topo)\n",
    "xyz_topo = np.c_[x_topo, y_topo, z_topo]\n",
    "print(xyz_topo)"
   ]
  },
  {
   "cell_type": "markdown",
   "metadata": {},
   "source": [
    "## Defining the Survey\n",
    "\n",
    "Here, we define survey that will be used for the simulation. Magnetic\n",
    "surveys are simple to create. The user only needs an (N, 3) array to define\n",
    "the xyz locations of the observation locations, the list of field components\n",
    "which are to be modeled and the properties of the Earth's field.\n",
    "\n",
    "\n"
   ]
  },
  {
   "cell_type": "code",
   "execution_count": 4,
   "metadata": {},
   "outputs": [],
   "source": [
    "# Define the observation locations as an (N, 3) numpy array or load them.\n",
    "\n",
    "\"x and y manage the size of the anomali cell\"\n",
    "\n",
    "x = np.linspace(-1, 1, 17)\n",
    "y = np.linspace(-1, 1, 17)\n",
    "x, y = np.meshgrid(x, y)\n",
    "x, y = mkvc(x.T), mkvc(y.T)\n",
    "fun_interp = LinearNDInterpolator(np.c_[x_topo, y_topo], z_topo)\n",
    "z = fun_interp(np.c_[x, y]) + 0.2  # Flight height 10 m above surface.\n",
    "receiver_locations = np.c_[x, y, z]\n",
    "\n",
    "# Define the component(s) of the field we want to simulate as a list of strings.\n",
    "# Here we simulation total magnetic intensity data.\n",
    "components = [\"tmi\"]\n",
    "\n",
    "# Use the observation locations and components to define the receivers. To\n",
    "# simulate data, the receivers must be defined as a list.\n",
    "receiver_list = magnetics.receivers.Point(receiver_locations, components=components)\n",
    "\n",
    "receiver_list = [receiver_list]\n",
    "\n",
    "# Define the inducing field H0 = (intensity [nT], inclination [deg], declination [deg])\n",
    "inclination = 66.449\n",
    "declination = 1.9\n",
    "strength = 49063.8\n",
    "inducing_field = (strength, inclination, declination)\n",
    "\n",
    "source_field = magnetics.sources.SourceField(\n",
    "    receiver_list=receiver_list, parameters=inducing_field\n",
    ")\n",
    "\n",
    "# Define the survey\n",
    "survey = magnetics.survey.Survey(source_field)"
   ]
  },
  {
   "cell_type": "markdown",
   "metadata": {},
   "source": [
    "## Defining a Tensor Mesh\n",
    "\n",
    "Here, we create the tensor mesh that will be used for the forward simulation.\n",
    "\n",
    "\n"
   ]
  },
  {
   "cell_type": "code",
   "execution_count": 5,
   "metadata": {},
   "outputs": [],
   "source": [
    "#########\n",
    "\"This manage the grillimg of the mesh\"\n",
    "#########\n",
    "dh = 0.05\n",
    "hx = [(dh, 5, -1.3), (dh, 45), (dh, 5, 1.3)]\n",
    "hy = [(dh, 5, -1.3), (dh, 45), (dh, 5, 1.3)]\n",
    "hz = [(dh, 5, -1.3), (dh, 25)]\n",
    "mesh = TensorMesh([hx, hy, hz], \"CCN\")"
   ]
  },
  {
   "cell_type": "markdown",
   "metadata": {},
   "source": [
    "## Defining a Susceptibility Model\n",
    "\n",
    "Here, we create the model that will be used to predict magnetic data\n",
    "and the mapping from the model to the mesh. The model\n",
    "consists of a susceptible sphere in a less susceptible host.\n",
    "\n",
    "\n"
   ]
  },
  {
   "cell_type": "code",
   "execution_count": 6,
   "metadata": {},
   "outputs": [
    {
     "name": "stderr",
     "output_type": "stream",
     "text": [
      "C:\\ProgramData\\Anaconda3\\lib\\site-packages\\discretize\\utils\\code_utils.py:182: FutureWarning: TensorMesh.vectorNx has been deprecated, please use TensorMesh.nodes_x. It will be removed in version 1.0.0 of discretize.\n",
      "  warnings.warn(message, Warning)\n",
      "C:\\ProgramData\\Anaconda3\\lib\\site-packages\\discretize\\utils\\code_utils.py:182: FutureWarning: TensorMesh.vectorNy has been deprecated, please use TensorMesh.nodes_y. It will be removed in version 1.0.0 of discretize.\n",
      "  warnings.warn(message, Warning)\n",
      "C:\\ProgramData\\Anaconda3\\lib\\site-packages\\discretize\\utils\\code_utils.py:182: FutureWarning: TensorMesh.vectorCCx has been deprecated, please use TensorMesh.cell_centers_x. It will be removed in version 1.0.0 of discretize.\n",
      "  warnings.warn(message, Warning)\n",
      "C:\\ProgramData\\Anaconda3\\lib\\site-packages\\discretize\\utils\\code_utils.py:182: FutureWarning: TensorMesh.vectorCCy has been deprecated, please use TensorMesh.cell_centers_y. It will be removed in version 1.0.0 of discretize.\n",
      "  warnings.warn(message, Warning)\n",
      "C:\\ProgramData\\Anaconda3\\lib\\site-packages\\discretize\\base\\base_regular_mesh.py:1049: FutureWarning: nCz has been deprecated, please access as mesh.shape_cells[2]\n",
      "  warnings.warn(\n",
      "C:\\ProgramData\\Anaconda3\\lib\\site-packages\\discretize\\base\\base_regular_mesh.py:1027: FutureWarning: nCy has been deprecated, please access as mesh.shape_cells[1]\n",
      "  warnings.warn(\n",
      "C:\\ProgramData\\Anaconda3\\lib\\site-packages\\discretize\\utils\\code_utils.py:217: FutureWarning: TensorMesh.plotSlice has been deprecated, please use TensorMesh.plot_slice. It will be removed in version 1.0.0 of discretize.\n",
      "  warnings.warn(\n"
     ]
    },
    {
     "data": {
      "image/png": "[encoded data removed]",
      "text/plain": [
       "<Figure size 648x288 with 2 Axes>"
      ]
     },
     "metadata": {
      "needs_background": "light"
     },
     "output_type": "display_data"
    }
   ],
   "source": [
    "# Find cells that are active in the forward modeling (cells below surface)\n",
    "ind_active = surface2ind_topo(mesh, xyz_topo)\n",
    "\n",
    "\n",
    "# Define susceptibility values for each unit in SI\n",
    "background_susceptibility = 0\n",
    "sphere_susceptibility = 0.01\n",
    "\n",
    "# Define mapping from model to active cells\n",
    "nC = int(ind_active.sum())\n",
    "model_map = maps.IdentityMap(nP=nC)  # model is a vlue for each active cell\n",
    "\n",
    "# Define model. Models in SimPEG are vector arrays\n",
    "model = background_susceptibility * np.ones(ind_active.sum())\n",
    "ind_sphere = model_builder.getIndicesSphere(\n",
    "    np.r_[0.0, 0.0, -0.02], 0.02, mesh.cell_centers\n",
    ")\n",
    "ind_sphere = ind_sphere[ind_active]\n",
    "model[ind_sphere] = sphere_susceptibility\n",
    "\n",
    "\n",
    "\n",
    "\n",
    "\n",
    "# Plot Model\n",
    "fig = plt.figure(figsize=(9, 4))\n",
    "\n",
    "plotting_map = maps.InjectActiveCells(mesh, ind_active, np.nan)\n",
    "ax1 = fig.add_axes([0.1, 0.12, 0.73, 0.78])\n",
    "mesh.plotSlice(\n",
    "    plotting_map * model,\n",
    "    normal=\"Y\",\n",
    "    ax=ax1,\n",
    "    ind=int(mesh.nCy / 2),\n",
    "    grid=True,\n",
    "    clim=(np.min(model), np.max(model)),\n",
    ")\n",
    "ax1.set_title(\"Model slice at y = 0 m\")\n",
    "ax1.set_xlabel(\"x (m)\")\n",
    "ax1.set_ylabel(\"z (m)\")\n",
    "\n",
    "ax2 = fig.add_axes([0.85, 0.12, 0.05, 0.78])\n",
    "norm = mpl.colors.Normalize(vmin=np.min(model), vmax=np.max(model))\n",
    "cbar = mpl.colorbar.ColorbarBase(ax2, norm=norm, orientation=\"vertical\")\n",
    "cbar.set_label(\"Magnetic Susceptibility (SI)\", rotation=270, labelpad=15, size=12)\n",
    "\n",
    "plt.show()\n"
   ]
  },
  {
   "cell_type": "markdown",
   "metadata": {},
   "source": [
    "## Simulation: TMI Data for a Susceptibility Model\n",
    "\n",
    "Here we demonstrate how to predict magnetic data for a magnetic\n",
    "susceptibility model using the integral formulation.\n",
    "\n",
    "\n"
   ]
  },
  {
   "cell_type": "code",
   "execution_count": 7,
   "metadata": {},
   "outputs": [
    {
     "name": "stderr",
     "output_type": "stream",
     "text": [
      "C:\\ProgramData\\Anaconda3\\lib\\site-packages\\discretize\\base\\base_tensor_mesh.py:1019: FutureWarning: hx has been deprecated, please access as mesh.h[0]\n",
      "  warnings.warn(\n",
      "C:\\ProgramData\\Anaconda3\\lib\\site-packages\\discretize\\base\\base_tensor_mesh.py:1036: FutureWarning: hy has been deprecated, please access as mesh.h[1]\n",
      "  warnings.warn(\n",
      "C:\\ProgramData\\Anaconda3\\lib\\site-packages\\discretize\\base\\base_tensor_mesh.py:1053: FutureWarning: hz has been deprecated, please access as mesh.h[2]\n",
      "  warnings.warn(\n"
     ]
    },
    {
     "data": {
      "image/png": "[encoded data removed]",
      "text/plain": [
       "<Figure size 432x360 with 2 Axes>"
      ]
     },
     "metadata": {
      "needs_background": "light"
     },
     "output_type": "display_data"
    }
   ],
   "source": [
    "# Define the forward simulation. By setting the 'store_sensitivities' keyword\n",
    "# argument to \"forward_only\", we simulate the data without storing the sensitivities\n",
    "simulation = magnetics.simulation.Simulation3DIntegral(\n",
    "    survey=survey,\n",
    "    mesh=mesh,\n",
    "    model_type=\"scalar\",\n",
    "    chiMap=model_map,\n",
    "    actInd=ind_active,\n",
    "    store_sensitivities=\"forward_only\",\n",
    ")\n",
    "\n",
    "# Compute predicted data for a susceptibility model\n",
    "dpred = simulation.dpred(model)\n",
    "\n",
    "# Plot\n",
    "fig = plt.figure(figsize=(6, 5))\n",
    "v_max = np.max(np.abs(dpred))\n",
    "\n",
    "ax1 = fig.add_axes([0.1, 0.1, 0.8, 0.85])\n",
    "plot2Ddata(\n",
    "    receiver_list[0].locations,\n",
    "    dpred,\n",
    "    ax=ax1,\n",
    "    ncontour=30,\n",
    "    clim=(-v_max, v_max),\n",
    "    contourOpts={\"cmap\": \"bwr\"},\n",
    ")\n",
    "ax1.set_title(\"TMI Anomaly\")\n",
    "ax1.set_xlabel(\"x (m)\")\n",
    "ax1.set_ylabel(\"y (m)\")\n",
    "\n",
    "ax2 = fig.add_axes([0.87, 0.1, 0.03, 0.85])\n",
    "norm = mpl.colors.Normalize(vmin=-np.max(np.abs(dpred)), vmax=np.max(np.abs(dpred)))\n",
    "cbar = mpl.colorbar.ColorbarBase(\n",
    "    ax2, norm=norm, orientation=\"vertical\", cmap=mpl.cm.bwr\n",
    ")\n",
    "cbar.set_label(\"$nT$\", rotation=270, labelpad=15, size=12)\n",
    "\n",
    "plt.show()"
   ]
  },
  {
   "cell_type": "markdown",
   "metadata": {},
   "source": [
    "## Optional: Export Data\n",
    "\n",
    "Write the data and topography\n",
    "\n",
    "\n"
   ]
  },
  {
   "cell_type": "code",
   "execution_count": 8,
   "metadata": {},
   "outputs": [],
   "source": [
    "if write_output:\n",
    "\n",
    "    dir_path = os.path.dirname(__file__).split(os.path.sep)\n",
    "    dir_path.extend([\"outputs\"])\n",
    "    dir_path = os.path.sep.join(dir_path) + os.path.sep\n",
    "\n",
    "    if not os.path.exists(dir_path):\n",
    "        os.mkdir(dir_path)\n",
    "\n",
    "    fname = dir_path + \"magnetics_topo.txt\"\n",
    "    np.savetxt(fname, np.c_[xyz_topo], fmt=\"%.4e\")\n",
    "\n",
    "    np.random.seed(211)\n",
    "    maximum_anomaly = np.max(np.abs(dpred))\n",
    "    noise = 0.02 * maximum_anomaly * np.random.rand(len(dpred))\n",
    "    fname = dir_path + \"magnetics_data.obs\"\n",
    "    np.savetxt(fname, np.c_[receiver_locations, dpred + noise], fmt=\"%.4e\")"
   ]
  },
  {
   "cell_type": "code",
   "execution_count": null,
   "metadata": {},
   "outputs": [],
   "source": []
  }
 ],
 "metadata": {
  "kernelspec": {
   "display_name": "Python 3",
   "language": "python",
   "name": "python3"
  },
  "language_info": {
   "codemirror_mode": {
    "name": "ipython",
    "version": 3
   },
   "file_extension": ".py",
   "mimetype": "text/x-python",
   "name": "python",
   "nbconvert_exporter": "python",
   "pygments_lexer": "ipython3",
   "version": "3.8.5"
  }
 },
 "nbformat": 4,
 "nbformat_minor": 1
}
